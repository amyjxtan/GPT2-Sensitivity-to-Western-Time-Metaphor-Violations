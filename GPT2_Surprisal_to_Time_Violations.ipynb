{
 "cells": [
  {
   "cell_type": "markdown",
   "id": "a1f0e006",
   "metadata": {},
   "source": [
    "# Is GPT 2 sensitive to violations of Western time metaphors?\n",
    "\n",
    "Amy Tan\n",
    "\n",
    "## Background\n",
    "All languages have the capability to deal with the concept and issue of time, including duration, deictic time, and sequence time. Most commonly, languages use the metaphor \"time as space\" in order to effectively communicate about the topic. However, they vary in how they handle time in terms of grammatical resources, the type of metaphorical models used, and their cultural practices. In particular, Western languages most commonly use a longitudinal axis with a front (future) - back (past) orientation with a much less common lateral axis with a left (past) - right (future) orientation. Rarer still is a vertical axis with a up (future) - down (past) orientation.<a name=\"cite_ref-1\"></a>[<sup>1</sup>](#cite_note-1) The longitudinal axis shows up in phrases such as \"the weeks ahead of us\" or \"the worst is behind us,\" the lateral axis shows up in phrases like \"next week\", and the vertical axis shows up in phrases like \"Stories passed down from generation to generation.\" These metaphors even extend beyond language into our embodied cognition. Studies involving time and gesture showed congruency with these metaphors - words like \"tomorrow\" were accompanied by gestures forwards or to the right while words like \"yesterday\" were accompanied by gestures behind or to the left.<a name=\"cite_ref-2\"></a>[<sup>2</sup>](#cite_note-2) Thus, for a native speaker of English, a sentence such as \"That was way back in 1900\" fits with the metaphors we use for time far better than a sentence such as \"That was way forward in 1900\", or \"That was way down in 1900\".<a name=\"cite_ref-1\"></a>[<sup>1</sup>](#cite_note-1) The later two sentences would be what I am considering a violation of\n",
    "Western time metaphors for this project. Thus, I aim to explore whether or not a Large Language Model (LLM), GPT-2 specifically, is sensitive to violations of Western time metaphors.\n",
    "\n",
    "---\n",
    "\n",
    "## General Imports and Libararies \n",
    "\n",
    "I first began by installing the transformers library and imported a variety of packages"
   ]
  },
  {
   "cell_type": "code",
   "execution_count": 1,
   "id": "8fef8b68",
   "metadata": {},
   "outputs": [],
   "source": [
    "# %pip install transformers\n",
    "# %pip install torch\n",
    "import torch\n",
    "import transformers\n",
    "import pandas as pd\n",
    "import matplotlib.pyplot as plt\n",
    "import seaborn as sns\n",
    "import numpy as np\n",
    "from tqdm import tqdm\n",
    "from scipy.stats import ttest_ind"
   ]
  },
  {
   "cell_type": "markdown",
   "id": "daf90db6",
   "metadata": {},
   "source": [
    "Afterwards, I loaded in the GPT-2 model."
   ]
  },
  {
   "cell_type": "code",
   "execution_count": 2,
   "id": "6a921d4b",
   "metadata": {},
   "outputs": [
    {
     "name": "stderr",
     "output_type": "stream",
     "text": [
      "/Users/amytan/anaconda3/lib/python3.11/site-packages/transformers/utils/generic.py:260: UserWarning: torch.utils._pytree._register_pytree_node is deprecated. Please use torch.utils._pytree.register_pytree_node instead.\n",
      "  torch.utils._pytree._register_pytree_node(\n"
     ]
    },
    {
     "data": {
      "text/plain": [
       "GPT2LMHeadModel(\n",
       "  (transformer): GPT2Model(\n",
       "    (wte): Embedding(50257, 768)\n",
       "    (wpe): Embedding(1024, 768)\n",
       "    (drop): Dropout(p=0.1, inplace=False)\n",
       "    (h): ModuleList(\n",
       "      (0-11): 12 x GPT2Block(\n",
       "        (ln_1): LayerNorm((768,), eps=1e-05, elementwise_affine=True)\n",
       "        (attn): GPT2Attention(\n",
       "          (c_attn): Conv1D()\n",
       "          (c_proj): Conv1D()\n",
       "          (attn_dropout): Dropout(p=0.1, inplace=False)\n",
       "          (resid_dropout): Dropout(p=0.1, inplace=False)\n",
       "        )\n",
       "        (ln_2): LayerNorm((768,), eps=1e-05, elementwise_affine=True)\n",
       "        (mlp): GPT2MLP(\n",
       "          (c_fc): Conv1D()\n",
       "          (c_proj): Conv1D()\n",
       "          (act): NewGELUActivation()\n",
       "          (dropout): Dropout(p=0.1, inplace=False)\n",
       "        )\n",
       "      )\n",
       "    )\n",
       "    (ln_f): LayerNorm((768,), eps=1e-05, elementwise_affine=True)\n",
       "  )\n",
       "  (lm_head): Linear(in_features=768, out_features=50257, bias=False)\n",
       ")"
      ]
     },
     "execution_count": 2,
     "metadata": {},
     "output_type": "execute_result"
    }
   ],
   "source": [
    "gpt2 = transformers.AutoModelForCausalLM.from_pretrained(\"gpt2\")\n",
    "gpt2.eval()"
   ]
  },
  {
   "cell_type": "markdown",
   "id": "b260c0b9",
   "metadata": {},
   "source": [
    "Following that, I loaded in the tokenizer that GPT-2 uses in order to prepare text input so the\n",
    "LLM can actually use it."
   ]
  },
  {
   "cell_type": "code",
   "execution_count": 3,
   "id": "f7bd4d92",
   "metadata": {},
   "outputs": [],
   "source": [
    "from transformers import AutoTokenizer\n",
    "tokenizer = AutoTokenizer.from_pretrained(\"gpt2\")"
   ]
  },
  {
   "cell_type": "markdown",
   "id": "d90f0881",
   "metadata": {},
   "source": [
    "---\n",
    "\n",
    "## Stimulus Pairs\n",
    "\n",
    "I created a set of 10 stimulus pairs, stored in the list ```stimuli```. Each item in the list is organized as the sentence, the final word that completes the sentence (the time metaphor), and whether or not the final word is a violation of Western time metaphors (Yes/No). I kept final words for the same sentence within the same axis for consistency - up/down, forward/back. I did not include words from the lateral left/right axis as it was difficult to find/create examples where these sentences ended with the metaphor - I expand upon this in stimulus limitations below. I drew inspiration from various examples from the book, Time in Space.<a name=\"cite_ref-3\"></a>[<sup>3</sup>](#cite_note-3) I then turned the list into a data frame to use in calculating surprisal."
   ]
  },
  {
   "cell_type": "code",
   "execution_count": 4,
   "id": "f36e9da8",
   "metadata": {},
   "outputs": [],
   "source": [
    "# in the format: (sentence, final word, violation)\n",
    "stimuli = [\n",
    "    (\"The new year is coming\", \" up\", \"No\"),\n",
    "    (\"The new year is coming\", \" down\", \"Yes\"),\n",
    "    (\"This necklace was my moms', I want to give it to my daughter to pass it\", \"down\", \"No\"),\n",
    "    (\"This necklace was my mom's, I want to give it to my daughter to pass it\", \"up\", \"Yes\"),\n",
    "    (\"I'm trying plan what I want as a career and look\", \" ahead\", \"No\"),\n",
    "    (\"I'm trying plan what I want as a career and look\", \" back\", \"Yes\"),\n",
    "    (\"I looked at old photos from childhood, they made me think\", \" back\", \"No\"), \n",
    "    (\"I looked at old photos from childhood, they made me think\", \" ahead\", \"Yes\"), \n",
    "    (\"The future is\", \" ahead\", \"No\"),\n",
    "    (\"The future is\", \" behind\", \"Yes\"),\n",
    "    (\"The past is\", \" behind\", \"No\"),\n",
    "    (\"The past is\", \" ahead\", \"Yes\"),\n",
    "    (\"Now that it's November, the end of the year is getting\", \" closer\", \"No\"),\n",
    "    (\"Now that it's November, the end of the year is getting\", \" further\", \"Yes\"),\n",
    "    (\"You're getting ahead of yourself - you're only 12, college is\", \" further\", \"No\"),\n",
    "    (\"You're getting ahead of yourself - you're only 12, college is\", \" closer\", \"Yes\"),\n",
    "    (\"We need to harvest the crops soon, winter is\", \" approaching\", \"No\"),\n",
    "    (\"We need to harvest the crops soon, winter is\", \" leaving\", \"Yes\"),\n",
    "    (\"The weather is getting colder and summer is\", \" leaving\", \"No\"),\n",
    "    (\"The weather is getting colder and summer is\", \" approaching\", \"No\")\n",
    "]"
   ]
  },
  {
   "cell_type": "code",
   "execution_count": 5,
   "id": "3e886e70",
   "metadata": {},
   "outputs": [
    {
     "data": {
      "text/html": [
       "<div>\n",
       "<style scoped>\n",
       "    .dataframe tbody tr th:only-of-type {\n",
       "        vertical-align: middle;\n",
       "    }\n",
       "\n",
       "    .dataframe tbody tr th {\n",
       "        vertical-align: top;\n",
       "    }\n",
       "\n",
       "    .dataframe thead th {\n",
       "        text-align: right;\n",
       "    }\n",
       "</style>\n",
       "<table border=\"1\" class=\"dataframe\">\n",
       "  <thead>\n",
       "    <tr style=\"text-align: right;\">\n",
       "      <th></th>\n",
       "      <th>Sentence</th>\n",
       "      <th>Word</th>\n",
       "      <th>Violation</th>\n",
       "    </tr>\n",
       "  </thead>\n",
       "  <tbody>\n",
       "    <tr>\n",
       "      <th>0</th>\n",
       "      <td>The new year is coming</td>\n",
       "      <td>up</td>\n",
       "      <td>No</td>\n",
       "    </tr>\n",
       "    <tr>\n",
       "      <th>1</th>\n",
       "      <td>The new year is coming</td>\n",
       "      <td>down</td>\n",
       "      <td>Yes</td>\n",
       "    </tr>\n",
       "    <tr>\n",
       "      <th>2</th>\n",
       "      <td>This necklace was my moms', I want to give it ...</td>\n",
       "      <td>down</td>\n",
       "      <td>No</td>\n",
       "    </tr>\n",
       "    <tr>\n",
       "      <th>3</th>\n",
       "      <td>This necklace was my mom's, I want to give it ...</td>\n",
       "      <td>up</td>\n",
       "      <td>Yes</td>\n",
       "    </tr>\n",
       "    <tr>\n",
       "      <th>4</th>\n",
       "      <td>I'm trying plan what I want as a career and look</td>\n",
       "      <td>ahead</td>\n",
       "      <td>No</td>\n",
       "    </tr>\n",
       "  </tbody>\n",
       "</table>\n",
       "</div>"
      ],
      "text/plain": [
       "                                            Sentence    Word Violation\n",
       "0                             The new year is coming      up        No\n",
       "1                             The new year is coming    down       Yes\n",
       "2  This necklace was my moms', I want to give it ...    down        No\n",
       "3  This necklace was my mom's, I want to give it ...      up       Yes\n",
       "4   I'm trying plan what I want as a career and look   ahead        No"
      ]
     },
     "execution_count": 5,
     "metadata": {},
     "output_type": "execute_result"
    }
   ],
   "source": [
    "df_stimuli = pd.DataFrame(stimuli, columns = ['Sentence', 'Word', 'Violation'])\n",
    "df_stimuli.head()"
   ]
  },
  {
   "cell_type": "markdown",
   "id": "ce2fe001",
   "metadata": {},
   "source": [
    "### Limitations of the Stimuli\n",
    "\n",
    "It's important to note that the set of stimuli I created are only fit for predicting the final word in a given sentence. Thus, I did not include sentences where the time metaphor words would have been embedded in the middle of the sentence (i.e. \"That's later down the line\") and was unable to include stimuli from the lateral (left/right axis). Had I included these sorts of sentence structures, they might have produced different surprisal values in the following section. Additionally, it's worth noting that understanding whether or not a given word is a violation in its given context relies on general world knowledge. For example, the sentence \"The weather is getting colder and summer is,\" requires knowledge that the weather during summer is warmer - when the weather changes during the season and becomes colder, it typically occurs at its end. Thus, some of the results seen might because the LLM does not have this general world knowledge, rather than because it is/isn't senstive to Western time metaphors."
   ]
  },
  {
   "cell_type": "markdown",
   "id": "8baf286b",
   "metadata": {},
   "source": [
    "--- \n",
    "## Suprisal and Results\n",
    "\n",
    "After defining stimulus pairs, I then calculated the suprisal for all target words, given the context (sentence) that they occured in."
   ]
  },
  {
   "cell_type": "code",
   "execution_count": 6,
   "id": "593ab4fa",
   "metadata": {},
   "outputs": [],
   "source": [
    "def surprisal(p):\n",
    "    return -np.log2(p)"
   ]
  },
  {
   "cell_type": "code",
   "execution_count": 7,
   "id": "e41e38d8",
   "metadata": {},
   "outputs": [],
   "source": [
    "def next_seq_prob(model, tokenizer, seen, unseen):\n",
    "    \"\"\"\n",
    "    Get p(unseen | seen)\n",
    "    \n",
    "    Parameters\n",
    "    ----------\n",
    "    model : transformers.PreTrainedModel\n",
    "    Model to use for predicting tokens\n",
    "    tokenizer : transformers.PreTrainedTokenizer\n",
    "    Tokenizer for Model\n",
    "    seen : str\n",
    "    Input sequence\n",
    "    unseen: str\n",
    "    The sequence for which to calculate a probability\n",
    "    \"\"\"\n",
    "    \n",
    "    # Get ids for tokens\n",
    "    input_ids = tokenizer.encode(seen, return_tensors=\"pt\")\n",
    "    unseen_ids = tokenizer.encode(unseen)\n",
    "    \n",
    "    # Loop through unseen tokens & store log probs\n",
    "    log_probs = []\n",
    "    for unseen_id in unseen_ids:\n",
    "        \n",
    "        # Run model on input\n",
    "        with torch.no_grad():\n",
    "            logits = model(input_ids).logits\n",
    "        \n",
    "        # Get next token prediction logits\n",
    "        next_token_logits = logits[0, -1]\n",
    "        next_token_probs = torch.softmax(next_token_logits, 0) # Normalize\n",
    "        \n",
    "        # Get probability for relevant token in unseen string & store\n",
    "        prob = next_token_probs[unseen_id]\n",
    "        log_probs.append(torch.log(prob))\n",
    "        \n",
    "        # Add input tokens incrementally to input\n",
    "        input_ids = torch.cat((input_ids, torch.tensor([[unseen_id]])), 1)\n",
    "        \n",
    "    # Add log probs together to get total log probability of sequence\n",
    "    total_log_prob = sum(log_probs)\n",
    "    # Exponentiate to return to probabilities\n",
    "    total_prob = torch.exp(total_log_prob)\n",
    "    return total_prob.item()"
   ]
  },
  {
   "cell_type": "code",
   "execution_count": 8,
   "id": "ebe58fba",
   "metadata": {},
   "outputs": [
    {
     "name": "stderr",
     "output_type": "stream",
     "text": [
      "100%|███████████████████████████████████████████| 20/20 [00:00<00:00, 25.68it/s]\n"
     ]
    }
   ],
   "source": [
    "results = []\n",
    "\n",
    "for index, row in tqdm(df_stimuli.iterrows(), total=df_stimuli.shape[0]):\n",
    "    prob = next_seq_prob(gpt2, tokenizer, row['Sentence'], row['Word'])\n",
    "    results.append({\n",
    "        'Word': row['Word'],\n",
    "        'Sentence': row['Sentence'],\n",
    "        'Violation': row['Violation'],\n",
    "        'Probability': prob,\n",
    "        'Surprisal': surprisal(prob)\n",
    "    })"
   ]
  },
  {
   "cell_type": "markdown",
   "id": "ebb27472",
   "metadata": {},
   "source": [
    "Following that, I turned my results into a data frame and then plotted the Violation and Surprisal columns to visualize if GPT-2 was sensitive to violations of Western time metaphors."
   ]
  },
  {
   "cell_type": "code",
   "execution_count": 9,
   "id": "6c514302",
   "metadata": {},
   "outputs": [
    {
     "data": {
      "text/html": [
       "<div>\n",
       "<style scoped>\n",
       "    .dataframe tbody tr th:only-of-type {\n",
       "        vertical-align: middle;\n",
       "    }\n",
       "\n",
       "    .dataframe tbody tr th {\n",
       "        vertical-align: top;\n",
       "    }\n",
       "\n",
       "    .dataframe thead th {\n",
       "        text-align: right;\n",
       "    }\n",
       "</style>\n",
       "<table border=\"1\" class=\"dataframe\">\n",
       "  <thead>\n",
       "    <tr style=\"text-align: right;\">\n",
       "      <th></th>\n",
       "      <th>Word</th>\n",
       "      <th>Sentence</th>\n",
       "      <th>Violation</th>\n",
       "      <th>Probability</th>\n",
       "      <th>Surprisal</th>\n",
       "    </tr>\n",
       "  </thead>\n",
       "  <tbody>\n",
       "    <tr>\n",
       "      <th>0</th>\n",
       "      <td>up</td>\n",
       "      <td>The new year is coming</td>\n",
       "      <td>No</td>\n",
       "      <td>9.589426e-02</td>\n",
       "      <td>3.382412</td>\n",
       "    </tr>\n",
       "    <tr>\n",
       "      <th>1</th>\n",
       "      <td>down</td>\n",
       "      <td>The new year is coming</td>\n",
       "      <td>Yes</td>\n",
       "      <td>1.034237e-02</td>\n",
       "      <td>6.595290</td>\n",
       "    </tr>\n",
       "    <tr>\n",
       "      <th>2</th>\n",
       "      <td>down</td>\n",
       "      <td>This necklace was my moms', I want to give it ...</td>\n",
       "      <td>No</td>\n",
       "      <td>6.483899e-07</td>\n",
       "      <td>20.556635</td>\n",
       "    </tr>\n",
       "    <tr>\n",
       "      <th>3</th>\n",
       "      <td>up</td>\n",
       "      <td>This necklace was my mom's, I want to give it ...</td>\n",
       "      <td>Yes</td>\n",
       "      <td>1.555292e-07</td>\n",
       "      <td>22.616312</td>\n",
       "    </tr>\n",
       "    <tr>\n",
       "      <th>4</th>\n",
       "      <td>ahead</td>\n",
       "      <td>I'm trying plan what I want as a career and look</td>\n",
       "      <td>No</td>\n",
       "      <td>1.716744e-02</td>\n",
       "      <td>5.864181</td>\n",
       "    </tr>\n",
       "  </tbody>\n",
       "</table>\n",
       "</div>"
      ],
      "text/plain": [
       "     Word                                           Sentence Violation  \\\n",
       "0      up                             The new year is coming        No   \n",
       "1    down                             The new year is coming       Yes   \n",
       "2    down  This necklace was my moms', I want to give it ...        No   \n",
       "3      up  This necklace was my mom's, I want to give it ...       Yes   \n",
       "4   ahead   I'm trying plan what I want as a career and look        No   \n",
       "\n",
       "    Probability  Surprisal  \n",
       "0  9.589426e-02   3.382412  \n",
       "1  1.034237e-02   6.595290  \n",
       "2  6.483899e-07  20.556635  \n",
       "3  1.555292e-07  22.616312  \n",
       "4  1.716744e-02   5.864181  "
      ]
     },
     "execution_count": 9,
     "metadata": {},
     "output_type": "execute_result"
    }
   ],
   "source": [
    "df_results = pd.DataFrame(results)\n",
    "df_results.head()"
   ]
  },
  {
   "cell_type": "code",
   "execution_count": 10,
   "id": "1d15ff08",
   "metadata": {},
   "outputs": [
    {
     "name": "stderr",
     "output_type": "stream",
     "text": [
      "/var/folders/lp/wvqcc0x13jjb99jsy0mqncqr0000gn/T/ipykernel_85681/2176993993.py:1: FutureWarning: \n",
      "\n",
      "Passing `palette` without assigning `hue` is deprecated and will be removed in v0.14.0. Assign the `x` variable to `hue` and set `legend=False` for the same effect.\n",
      "\n",
      "  sns.barplot(data = df_results, x = \"Violation\", y = \"Surprisal\", palette = [\"orange\", \"green\"])\n"
     ]
    },
    {
     "data": {
      "text/plain": [
       "Text(0.5, 1.0, 'Surprisal for Time Metaphors Higher for Violations')"
      ]
     },
     "execution_count": 10,
     "metadata": {},
     "output_type": "execute_result"
    },
    {
     "data": {
      "image/png": "[encoded data removed]",
      "text/plain": [
       "<Figure size 640x480 with 1 Axes>"
      ]
     },
     "metadata": {},
     "output_type": "display_data"
    }
   ],
   "source": [
    "sns.barplot(data = df_results, x = \"Violation\", y = \"Surprisal\", palette = [\"orange\", \"green\"])\n",
    "plt.title('Surprisal for Time Metaphors Higher for Violations')"
   ]
  },
  {
   "cell_type": "code",
   "execution_count": 11,
   "id": "33a5282d",
   "metadata": {},
   "outputs": [
    {
     "name": "stdout",
     "output_type": "stream",
     "text": [
      "8.158675900099498\n",
      "5.602904970765619\n"
     ]
    }
   ],
   "source": [
    "# Print the surprisal mean and standard devation of the Non-Violation condition\n",
    "not_violation = df_results[df_results['Violation'] == 'No']\n",
    "print(not_violation['Surprisal'].mean())\n",
    "print(not_violation['Surprisal'].std())"
   ]
  },
  {
   "cell_type": "code",
   "execution_count": 12,
   "id": "d78d570d",
   "metadata": {},
   "outputs": [
    {
     "name": "stdout",
     "output_type": "stream",
     "text": [
      "11.61840856103569\n",
      "5.0835060964262215\n"
     ]
    }
   ],
   "source": [
    "# Print the surprisal mean and standard devation of the Violation condition\n",
    "violation = df_results[df_results['Violation'] == 'Yes']\n",
    "print(violation['Surprisal'].mean())\n",
    "print(violation['Surprisal'].std())"
   ]
  },
  {
   "cell_type": "markdown",
   "id": "504811ab",
   "metadata": {},
   "source": [
    "If we run a t-test, we find that these means are not statistically different using an alpha level of 0.05(t = -1.43, p = 0.17, df = 18). Thus, LLMs are not sensitive to time violations of Western time metaphors."
   ]
  },
  {
   "cell_type": "code",
   "execution_count": 13,
   "id": "e76b87c1",
   "metadata": {},
   "outputs": [
    {
     "data": {
      "text/plain": [
       "TtestResult(statistic=-1.4312106893707914, pvalue=0.16950360776416848, df=18.0)"
      ]
     },
     "execution_count": 13,
     "metadata": {},
     "output_type": "execute_result"
    }
   ],
   "source": [
    "ttest_ind(not_violation['Surprisal'], violation['Surprisal'])"
   ]
  },
  {
   "cell_type": "markdown",
   "id": "77474b6c",
   "metadata": {},
   "source": [
    "## Discussion\n",
    "GPT-2 in particular is not sensitive to violations of Western time metaphors, indicating that it lacks the same capacities that humans do for this part of language. It is important to note however, that this does not mean that LLMs as a whole are entirely insensitive. Using these stimuli with newer and more powerful LLMs might yield significant results as the field of LLMs continue to improve. Additionally, follow up using stimuli with the time metaphor embedded or even perhaps at the beginning of sentences would provide a more well rounded understanding of LLMs sensitivity to violations of time-metaphors. \n",
    "\n",
    "Additionally, the insensitivity to time metaphor violations demonstrates human cognition's capacity and sensitivity to them. A violation of them in a sentence is confusing and incongruous to our embodied perspective and understanding of time. Time and its metaphors are not only constantly talked about in day-to-day conversation, but we also \"feel\" time through its simultaneity, its duration, remembered events, and predicted events to name a few.<a name=\"cite_ref-1\"></a>[<sup>1</sup>](#cite_note-1) We encorporate these metaphors into our gestures and cannot ignore spatial cues when asked to make time judgments.<a name=\"cite_ref-4\"></a>[<sup>4</sup>](#cite_note-4) Thus, perhaps due to this consistent exposure to time metaphors and our embodied perespective of it, humans have access to and a fluidity in information that a LLM cannot necessarily get in its training data."
   ]
  },
  {
   "cell_type": "markdown",
   "id": "ce4625f2",
   "metadata": {},
   "source": [
    "## References\n"
   ]
  },
  {
   "cell_type": "markdown",
   "id": "5add38ae",
   "metadata": {},
   "source": [
    "1. <a name=\"cite_note-1\"></a> [^](#cite_ref-1) Radden, G. (2003). The metaphor TIME AS SPACE across languages. Zeitschrift für interkulturellen Fremdsprachenunterricht, 8(2).\n",
    "2. <a name=\"cite_note-2\"></a> [^](#cite_ref-2) Walker, E., & Cooperrider, K. (2016). The Continuity of Metaphor: Evidence From Temporal Gestures. Cognitive Science, 40(2), 481-495. https://doi.org/10.1111/cogs.12254\n",
    "3. <a name=\"cite_note-3\"></a> [^](#cite_ref-3) Duffy, S. E., & Feist, M. I. (2023). Time in Space: Cross-Linguistic Variation and Metaphor. In Time, Metaphor, and Language: A Cognitive Science Perspective (pp. 50– 81). chapter, Cambridge: Cambridge University Press.\n",
    "4. <a name=\"cite_note-3\"></a> [^](#cite_ref-3) Cooperridder, K., & Núñez, R.(2016). How We Make Sense of Time. Scientific American."
   ]
  }
 ],
 "metadata": {
  "kernelspec": {
   "display_name": "Python 3 (ipykernel)",
   "language": "python",
   "name": "python3"
  },
  "language_info": {
   "codemirror_mode": {
    "name": "ipython",
    "version": 3
   },
   "file_extension": ".py",
   "mimetype": "text/x-python",
   "name": "python",
   "nbconvert_exporter": "python",
   "pygments_lexer": "ipython3",
   "version": "3.11.5"
  }
 },
 "nbformat": 4,
 "nbformat_minor": 5
}
